{
  "cells": [
    {
      "cell_type": "code",
      "execution_count": null,
      "metadata": {
        "id": "CYoE3LwMHtKm"
      },
      "outputs": [],
      "source": [
        "!pip install fiftyone pyvips-binary pyvips"
      ]
    },
    {
      "cell_type": "code",
      "execution_count": null,
      "metadata": {
        "id": "29rFisXUH9ye"
      },
      "outputs": [],
      "source": [
        "import fiftyone as fo\n",
        "import fiftyone.zoo as foz\n",
        "\n",
        "dataset = foz.load_zoo_dataset(\"quickstart\")"
      ]
    },
    {
      "cell_type": "code",
      "source": [
        "!fiftyone plugins download https://github.com/harpreetsahota204/moondream2-plugin"
      ],
      "metadata": {
        "id": "QS-XAvTcE9Ho"
      },
      "execution_count": null,
      "outputs": []
    },
    {
      "cell_type": "code",
      "source": [
        "fo.launch_app(dataset)"
      ],
      "metadata": {
        "id": "Dx1OanBGFqER"
      },
      "execution_count": null,
      "outputs": []
    },
    {
      "cell_type": "code",
      "source": [
        "import fiftyone.operators as foo\n",
        "\n",
        "moondream_operator = foo.get_operator(\"@harpreetsahota/moondream2/moondream\")"
      ],
      "metadata": {
        "id": "JjzqoOg8olSJ"
      },
      "execution_count": null,
      "outputs": []
    },
    {
      "cell_type": "code",
      "source": [
        "await moondream_operator(\n",
        "    dataset,\n",
        "    revision=\"2025-01-09\",\n",
        "    operation=\"caption\",\n",
        "    output_field=\"moondream_caption\",\n",
        "    delegate=True,\n",
        "    length=\"short\"\n",
        ")"
      ],
      "metadata": {
        "id": "7exONRcaoZxc"
      },
      "execution_count": null,
      "outputs": []
    },
    {
      "cell_type": "code",
      "source": [
        "await moondream_operator(\n",
        "    dataset,\n",
        "    revision=\"2025-01-09\",\n",
        "    operation=\"detect\",\n",
        "    output_field=\"moondream_detections\",\n",
        "    delegate=True,\n",
        "    object_type=\"things\"\n",
        ")"
      ],
      "metadata": {
        "id": "Av4hAsdyo2VO"
      },
      "execution_count": null,
      "outputs": []
    },
    {
      "cell_type": "code",
      "source": [
        "await moondream_operator(\n",
        "    dataset,\n",
        "    revision=\"2025-01-09\",\n",
        "    operation=\"point\",\n",
        "    output_field=\"moondream_point\",\n",
        "    delegate=True,\n",
        "    object_type=\"stuff\"\n",
        ")"
      ],
      "metadata": {
        "id": "ZT1CV9OPrFol"
      },
      "execution_count": null,
      "outputs": []
    },
    {
      "cell_type": "code",
      "source": [
        "await moondream_operator(\n",
        "    dataset,\n",
        "    revision=\"2025-01-09\",\n",
        "    operation=\"query\",\n",
        "    output_field=\"moondream_answer\",\n",
        "    delegate=True,\n",
        "    query_text=\"What is the intearction between things and stuff in this image?\"\n",
        ")"
      ],
      "metadata": {
        "id": "oMAIBTCsrVt2"
      },
      "execution_count": null,
      "outputs": []
    },
    {
      "cell_type": "code",
      "source": [],
      "metadata": {
        "id": "Xj2WlpMzrmpf"
      },
      "execution_count": null,
      "outputs": []
    }
  ],
  "metadata": {
    "accelerator": "GPU",
    "colab": {
      "gpuType": "L4",
      "machine_shape": "hm",
      "provenance": []
    },
    "kernelspec": {
      "display_name": "Python 3",
      "name": "python3"
    },
    "language_info": {
      "name": "python"
    }
  },
  "nbformat": 4,
  "nbformat_minor": 0
}